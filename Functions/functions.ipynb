{
 "cells": [
  {
   "cell_type": "code",
   "execution_count": 3,
   "source": [
    "#comparing the functions\r\n",
    "def DoAdd(n1,n2):\r\n",
    "    return n1+n2\r\n",
    "print(DoAdd(3,2))\r\n",
    "print(DoAdd(3,2)==DoAdd(3,2))\r\n",
    "print(DoAdd(3,2)==DoAdd(7,2))"
   ],
   "outputs": [
    {
     "output_type": "stream",
     "name": "stdout",
     "text": [
      "5\n",
      "True\n",
      "False\n"
     ]
    }
   ],
   "metadata": {}
  },
  {
   "cell_type": "code",
   "execution_count": null,
   "source": [
    "# A function is a block of code which only runs when it is called.\r\n",
    "\r\n",
    "# You can pass data, known as parameters, into a function.\r\n",
    "\r\n",
    "# A function can return data as a result.\r\n",
    "#In Python a function is defined using the def keyword:\r\n",
    "#To call a function, use the function name followed by parenthesis:\r\n",
    "def my_function():\r\n",
    "      print(\"Hello from a function\")\r\n",
    "\r\n",
    "my_function()\r\n",
    "\r\n"
   ],
   "outputs": [],
   "metadata": {}
  },
  {
   "cell_type": "code",
   "execution_count": 4,
   "source": [
    "#Arguments\r\n",
    "#Information can be passed into functions as arguments.\r\n",
    "def my_function(fname):\r\n",
    "      print(fname + \" Refsnes\")\r\n",
    "\r\n",
    "my_function(\"Emil\")\r\n",
    "my_function(\"Tobias\")\r\n",
    "my_function(\"Linus\")\r\n",
    "# Parameters or Arguments?\r\n",
    "# The terms parameter and argument can be used for the same thing: information that are passed into a function.\r\n",
    "\r\n",
    "# From a function's perspective:\r\n",
    "\r\n",
    "# A parameter is the variable listed inside the parentheses in the function definition.\r\n",
    "\r\n",
    "# An argument is the value that is sent to the function when it is called.\r\n"
   ],
   "outputs": [
    {
     "output_type": "stream",
     "name": "stdout",
     "text": [
      "Emil Refsnes\n",
      "Tobias Refsnes\n",
      "Linus Refsnes\n"
     ]
    }
   ],
   "metadata": {}
  },
  {
   "cell_type": "code",
   "execution_count": 5,
   "source": [
    "# Arbitrary Arguments, *args\r\n",
    "# If you do not know how many arguments that will be passed into your function, add a * before the parameter name in the function definition.\r\n",
    "\r\n",
    "def my_function(*kids):\r\n",
    "      print(\"The youngest child is \" + kids[2])\r\n",
    "\r\n",
    "my_function(\"Emil\", \"Tobias\", \"Linus\")"
   ],
   "outputs": [
    {
     "output_type": "stream",
     "name": "stdout",
     "text": [
      "The youngest child is Linus\n"
     ]
    }
   ],
   "metadata": {}
  },
  {
   "cell_type": "code",
   "execution_count": 6,
   "source": [
    "# Keyword Arguments\r\n",
    "# You can also send arguments with the key = value syntax.\r\n",
    "def my_function(child3, child2, child1):\r\n",
    "      print(\"The youngest child is \" + child3)\r\n",
    "\r\n",
    "my_function(child1 = \"Emil\", child2 = \"Tobias\", child3 = \"Linus\")"
   ],
   "outputs": [
    {
     "output_type": "stream",
     "name": "stdout",
     "text": [
      "The youngest child is Linus\n"
     ]
    }
   ],
   "metadata": {}
  },
  {
   "cell_type": "code",
   "execution_count": 7,
   "source": [
    "# Arbitrary Keyword Arguments, **kwargs\r\n",
    "# If you do not know how many keyword arguments that will be passed into your function, add two asterisk: ** before the parameter name in the function definition.\r\n",
    "def my_function(**kid):\r\n",
    "      print(\"His last name is \" + kid[\"lname\"])\r\n",
    "\r\n",
    "my_function(fname = \"Tobias\", lname = \"Refsnes\")"
   ],
   "outputs": [
    {
     "output_type": "stream",
     "name": "stdout",
     "text": [
      "His last name is Refsnes\n"
     ]
    }
   ],
   "metadata": {}
  },
  {
   "cell_type": "code",
   "execution_count": 8,
   "source": [
    "# #Default Parameter Value\r\n",
    "# The following example shows how to use a default parameter value.\r\n",
    "\r\n",
    "# If we call the function without argument, it uses the default value:\r\n",
    "def my_function(country = \"Norway\"):\r\n",
    "      print(\"I am from \" + country)\r\n",
    "\r\n",
    "my_function(\"Sweden\")\r\n",
    "my_function(\"India\")\r\n",
    "my_function()\r\n",
    "my_function(\"Brazil\")"
   ],
   "outputs": [
    {
     "output_type": "stream",
     "name": "stdout",
     "text": [
      "I am from Sweden\n",
      "I am from India\n",
      "I am from Norway\n",
      "I am from Brazil\n"
     ]
    }
   ],
   "metadata": {}
  },
  {
   "cell_type": "code",
   "execution_count": 12,
   "source": [
    "# Passing a List as an Argument\r\n",
    "# You can send any data types of argument to a function (string, number, list, dictionary etc.), and it will be treated as the same data type inside the function.\r\n",
    "\r\n",
    "# E.g. if you send a List as an argument, it will still be a List when it reaches the function:\r\n",
    "def my_function(food):\r\n",
    "      for x in food:\r\n",
    "                print(x)\r\n",
    "\r\n",
    "fruits = [\"apple\", \"banana\", \"cherry\"]\r\n",
    "\r\n",
    "my_function(fruits)"
   ],
   "outputs": [
    {
     "output_type": "stream",
     "name": "stdout",
     "text": [
      "apple\n",
      "banana\n",
      "cherry\n"
     ]
    }
   ],
   "metadata": {}
  }
 ],
 "metadata": {
  "orig_nbformat": 4,
  "language_info": {
   "name": "python",
   "version": "3.8.8rc1",
   "mimetype": "text/x-python",
   "codemirror_mode": {
    "name": "ipython",
    "version": 3
   },
   "pygments_lexer": "ipython3",
   "nbconvert_exporter": "python",
   "file_extension": ".py"
  },
  "kernelspec": {
   "name": "python3",
   "display_name": "Python 3.8.8rc1 64-bit"
  },
  "interpreter": {
   "hash": "3410afedb74081d81603511028deadddc25ba0f01c14e0cb891e2c2473f81884"
  }
 },
 "nbformat": 4,
 "nbformat_minor": 2
}